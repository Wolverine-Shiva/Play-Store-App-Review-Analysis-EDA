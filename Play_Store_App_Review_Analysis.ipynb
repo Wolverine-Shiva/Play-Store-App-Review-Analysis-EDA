{
  "nbformat": 4,
  "nbformat_minor": 0,
  "metadata": {
    "colab": {
      "private_outputs": true,
      "provenance": [],
      "collapsed_sections": [
        "vncDsAP0Gaoa",
        "FJNUwmbgGyua",
        "w6K7xa23Elo4",
        "yQaldy8SH6Dl",
        "PH-0ReGfmX4f",
        "mDgbUHAGgjLW",
        "O_i_v8NEhb9l",
        "HhfV-JJviCcP",
        "Y3lxredqlCYt",
        "3RnN4peoiCZX",
        "x71ZqKXriCWQ",
        "7hBIi_osiCS2",
        "JlHwYmJAmNHm",
        "35m5QtbWiB9F",
        "PoPl-ycgm1ru",
        "H0kj-8xxnORC",
        "nA9Y7ga8ng1Z",
        "PBTbrJXOngz2",
        "u3PMJOP6ngxN",
        "dauF4eBmngu3",
        "bKJF3rekwFvQ",
        "MSa1f5Uengrz",
        "GF8Ens_Soomf",
        "0wOQAZs5pc--",
        "K5QZ13OEpz2H",
        "lQ7QKXXCp7Bj",
        "448CDAPjqfQr",
        "KSlN3yHqYklG",
        "t6dVpIINYklI",
        "ijmpgYnKYklI",
        "-JiQyfWJYklI",
        "EM7whBJCYoAo",
        "fge-S5ZAYoAp",
        "85gYPyotYoAp",
        "RoGjAbkUYoAp",
        "4Of9eVA-YrdM",
        "iky9q4vBYrdO",
        "F6T5p64dYrdO",
        "y-Ehk30pYrdP",
        "bamQiAODYuh1",
        "QHF8YVU7Yuh3",
        "GwzvFGzlYuh3",
        "qYpmQ266Yuh3",
        "OH-pJp9IphqM",
        "bbFf2-_FphqN",
        "_ouA3fa0phqN",
        "Seke61FWphqN",
        "PIIx-8_IphqN",
        "t27r6nlMphqO",
        "r2jJGEOYphqO",
        "b0JNsNcRphqO",
        "BZR9WyysphqO",
        "jj7wYXLtphqO",
        "eZrbJ2SmphqO",
        "rFu4xreNphqO",
        "YJ55k-q6phqO",
        "gCFgpxoyphqP",
        "OVtJsKN_phqQ",
        "lssrdh5qphqQ",
        "U2RJ9gkRphqQ",
        "1M8mcRywphqQ",
        "tgIPom80phqQ",
        "JMzcOPDDphqR",
        "x-EpHcCOp1ci",
        "X_VqEhTip1ck",
        "8zGJKyg5p1ck",
        "PVzmfK_Ep1ck",
        "n3dbpmDWp1ck",
        "ylSl6qgtp1ck",
        "ZWILFDl5p1ck",
        "M7G43BXep1ck",
        "Ag9LCva-p1cl",
        "E6MkPsBcp1cl",
        "2cELzS2fp1cl",
        "3MPXvC8up1cl",
        "NC_X3p0fY2L0",
        "UV0SzAkaZNRQ",
        "YPEH6qLeZNRQ",
        "q29F0dvdveiT",
        "EXh0U9oCveiU",
        "22aHeOlLveiV",
        "JcMwzZxoAimU",
        "8G2x9gOozGDZ",
        "gCX9965dhzqZ",
        "gIfDvo9L0UH2"
      ],
      "include_colab_link": true
    },
    "kernelspec": {
      "name": "python3",
      "display_name": "Python 3"
    },
    "language_info": {
      "name": "python"
    }
  },
  "cells": [
    {
      "cell_type": "markdown",
      "metadata": {
        "id": "view-in-github",
        "colab_type": "text"
      },
      "source": [
        "<a href=\"https://colab.research.google.com/github/Wolverine-Shiva/Play-Store-App-Review-Analysis-EDA/blob/main/Play_Store_App_Review_Analysis.ipynb\" target=\"_parent\"><img src=\"https://colab.research.google.com/assets/colab-badge.svg\" alt=\"Open In Colab\"/></a>"
      ]
    },
    {
      "cell_type": "markdown",
      "source": [
        "# **Project Name**    - Play Store App Review Analysis\n",
        "\n"
      ],
      "metadata": {
        "id": "vncDsAP0Gaoa"
      }
    },
    {
      "cell_type": "markdown",
      "source": [
        "##### **Project Type**    - EDA\n",
        "##### **Contribution**    - Team\n",
        "##### **Team Member 1 -** Shiva Singh\n",
        "##### **Team Member 2 -**\n",
        "##### **Team Member 3 -**\n",
        "##### **Team Member 4 -**"
      ],
      "metadata": {
        "id": "beRrZCGUAJYm"
      }
    },
    {
      "cell_type": "markdown",
      "source": [
        "# **Project Summary -**"
      ],
      "metadata": {
        "id": "FJNUwmbgGyua"
      }
    },
    {
      "cell_type": "markdown",
      "source": [
        "The Play Store App Review Analysis EDA Project is a comprehensive examination of user reviews from the Google Play Store. Its primary goal is to gain valuable insights into user sentiments, uncover common issues, and provide recommendations for app developers to enhance their applications. This project involves various stages, including data collection, preprocessing, exploratory data analysis (EDA), visualization, and the extraction of actionable insights.\n",
        "\n",
        "**Data Collection:**\n",
        "\n",
        "The project begins by obtaining a dataset of app reviews from the Play Store. This dataset typically includes key information such as review text, user ratings, dates, and potentially other metadata. Data collection methods can involve web scraping tools or access to publicly available datasets.\n",
        "\n",
        "**Data Preprocessing:**\n",
        "\n",
        "Data preprocessing is a crucial step in ensuring the quality of the dataset. This involves cleaning the data by removing duplicates, addressing missing values, and converting data types when necessary. Additionally, text preprocessing techniques are applied to the review text, including tokenization, the removal of special characters and stopwords, and lemmatization or stemming.\n",
        "\n",
        "**Exploratory Data Analysis (EDA):**\n",
        "\n",
        "EDA is the heart of the project, where various analytical techniques are applied to extract insights from the dataset. This includes calculating descriptive statistics such as mean, median, and standard deviation for ratings. Distribution analysis is conducted through visualizations like histograms and box plots to assess overall user sentiment. Time analysis helps identify trends and seasonality in reviews over time. Word clouds are generated to visualize the most common words in positive and negative reviews, while sentiment analysis techniques classify reviews as positive, negative, or neutral. Topic modeling is also employed to uncover common themes or topics within the reviews.\n",
        "\n",
        "**Visualization:**\n",
        "\n",
        "Effective data visualization is employed to communicate findings clearly. Word clouds visualize frequently mentioned words in positive and negative reviews. Bar charts or pie charts display the distribution of sentiments (positive, negative, neutral), providing a quick overview of user sentiment trends. Line charts track changes in app ratings and sentiments over time, helping to identify patterns and fluctuations.\n",
        "\n",
        "***Conclusion:***\n",
        "\n",
        "In conclusion, the Play Store App Review Analysis EDA Project is a data-driven initiative aimed at helping app developers better understand user sentiments and improve their applications. The project encompasses data collection, preprocessing, exploratory data analysis, visualization, and the extraction of actionable insights. The recommendations and findings are essential for developers to enhance their apps and cater to user needs effectively."
      ],
      "metadata": {
        "id": "F6v_1wHtG2nS"
      }
    },
    {
      "cell_type": "markdown",
      "source": [
        "# **GitHub Link -**"
      ],
      "metadata": {
        "id": "w6K7xa23Elo4"
      }
    },
    {
      "cell_type": "markdown",
      "source": [
        "[GitHub Link](https://github.com/Wolverine-Shiva/Play-Store-App-Review-Analysis-EDA)"
      ],
      "metadata": {
        "id": "h1o69JH3Eqqn"
      }
    },
    {
      "cell_type": "markdown",
      "source": [
        "# **Problem Statement**\n"
      ],
      "metadata": {
        "id": "yQaldy8SH6Dl"
      }
    },
    {
      "cell_type": "markdown",
      "source": [
        "Explore and analyze the data to discover key factors responsible for app engagement and success."
      ],
      "metadata": {
        "id": "DpeJGUA3kjGy"
      }
    },
    {
      "cell_type": "markdown",
      "source": [
        "#### **Define Your Business Objective?**"
      ],
      "metadata": {
        "id": "PH-0ReGfmX4f"
      }
    },
    {
      "cell_type": "markdown",
      "source": [
        "The objective of this project is to help app developers and businesses understand what factors make their apps successful. By analyzing the play_store_data and user_review_data datasets, we will identify relevant KPIs. This information will be used to provide insights and recommendations on how to improve app engagement, retain users, increase revenue, and enhance marketing strategies. Ultimately, my goal is to help businesses create successful apps that satisfy their customers and drive growth."
      ],
      "metadata": {
        "id": "PhDvGCAqmjP1"
      }
    },
    {
      "cell_type": "markdown",
      "source": [
        "# **General Guidelines** : -  "
      ],
      "metadata": {
        "id": "mDgbUHAGgjLW"
      }
    },
    {
      "cell_type": "markdown",
      "source": [
        "1.   Well-structured, formatted, and commented code is required.\n",
        "2.   Exception Handling, Production Grade Code & Deployment Ready Code will be a plus. Those students will be awarded some additional credits.\n",
        "     \n",
        "     The additional credits will have advantages over other students during Star Student selection.\n",
        "       \n",
        "             [ Note: - Deployment Ready Code is defined as, the whole .ipynb notebook should be executable in one go\n",
        "                       without a single error logged. ]\n",
        "\n",
        "3.   Each and every logic should have proper comments.\n",
        "4. You may add as many number of charts you want. Make Sure for each and every chart the following format should be answered.\n",
        "        \n",
        "\n",
        "```\n",
        "# Chart visualization code\n",
        "```\n",
        "            \n",
        "\n",
        "*   Why did you pick the specific chart?\n",
        "*   What is/are the insight(s) found from the chart?\n",
        "* Will the gained insights help creating a positive business impact?\n",
        "Are there any insights that lead to negative growth? Justify with specific reason.\n",
        "\n",
        "5. You have to create at least 20 logical & meaningful charts having important insights.\n",
        "\n",
        "\n",
        "[ Hints : - Do the Vizualization in  a structured way while following \"UBM\" Rule.\n",
        "\n",
        "U - Univariate Analysis,\n",
        "\n",
        "B - Bivariate Analysis (Numerical - Categorical, Numerical - Numerical, Categorical - Categorical)\n",
        "\n",
        "M - Multivariate Analysis\n",
        " ]\n",
        "\n",
        "\n",
        "\n"
      ],
      "metadata": {
        "id": "ZrxVaUj-hHfC"
      }
    },
    {
      "cell_type": "markdown",
      "source": [
        "# ***Let's Begin !***"
      ],
      "metadata": {
        "id": "O_i_v8NEhb9l"
      }
    },
    {
      "cell_type": "markdown",
      "source": [
        "## ***1. Know Your Data***"
      ],
      "metadata": {
        "id": "HhfV-JJviCcP"
      }
    },
    {
      "cell_type": "markdown",
      "source": [
        "### Import Libraries"
      ],
      "metadata": {
        "id": "Y3lxredqlCYt"
      }
    },
    {
      "cell_type": "code",
      "source": [
        "# Import Libraries\n",
        "import numpy as np\n",
        "import pandas as pd\n",
        "import seaborn as sns\n",
        "import matplotlib.pyplot as plt"
      ],
      "metadata": {
        "id": "M8Vqi-pPk-HR"
      },
      "execution_count": null,
      "outputs": []
    },
    {
      "cell_type": "markdown",
      "source": [
        "### Dataset Loading"
      ],
      "metadata": {
        "id": "3RnN4peoiCZX"
      }
    },
    {
      "cell_type": "code",
      "source": [
        "# Load Dataset\n",
        "from google.colab import drive\n",
        "drive.mount('/content/drive')"
      ],
      "metadata": {
        "id": "4CkvbW_SlZ_R"
      },
      "execution_count": null,
      "outputs": []
    },
    {
      "cell_type": "markdown",
      "source": [
        "### **1st Step: Data Cleaning on Play Store dataset**"
      ],
      "metadata": {
        "id": "Q9uHAG2Okf-h"
      }
    },
    {
      "cell_type": "code",
      "source": [
        "play_store_data = pd.read_csv('/content/drive/MyDrive/Colab Notebooks/Capstone Projects/Play Store App Review/Play Store Data.csv')"
      ],
      "metadata": {
        "id": "T8984T64khIs"
      },
      "execution_count": null,
      "outputs": []
    },
    {
      "cell_type": "markdown",
      "source": [
        "### Dataset First View"
      ],
      "metadata": {
        "id": "x71ZqKXriCWQ"
      }
    },
    {
      "cell_type": "code",
      "source": [
        "# Dataset First Look to showing first 10 rows of play_store_data\n",
        "play_store_data.head(10)"
      ],
      "metadata": {
        "id": "LWNFOSvLl09H"
      },
      "execution_count": null,
      "outputs": []
    },
    {
      "cell_type": "code",
      "source": [
        "# using tail() to showing last 10 rows of play_store_data\n",
        "play_store_data.tail(10)"
      ],
      "metadata": {
        "id": "M3ENdXbDlAcA"
      },
      "execution_count": null,
      "outputs": []
    },
    {
      "cell_type": "markdown",
      "source": [
        "### Dataset Rows & Columns count"
      ],
      "metadata": {
        "id": "7hBIi_osiCS2"
      }
    },
    {
      "cell_type": "code",
      "source": [
        "# counting the rows & columns of play_store_data\n",
        "play_store_data.shape"
      ],
      "metadata": {
        "id": "Kllu7SJgmLij"
      },
      "execution_count": null,
      "outputs": []
    },
    {
      "cell_type": "markdown",
      "source": [
        "### Dataset Information"
      ],
      "metadata": {
        "id": "JlHwYmJAmNHm"
      }
    },
    {
      "cell_type": "code",
      "source": [
        "# looking the info of play_store_data\n",
        "play_store_data.info()"
      ],
      "metadata": {
        "id": "e9hRXRi6meOf"
      },
      "execution_count": null,
      "outputs": []
    },
    {
      "cell_type": "markdown",
      "source": [
        "#### Duplicate Values"
      ],
      "metadata": {
        "id": "35m5QtbWiB9F"
      }
    },
    {
      "cell_type": "code",
      "source": [
        "# counting the dublicate values of play_store_data\n",
        "len(play_store_data[play_store_data.duplicated()])"
      ],
      "metadata": {
        "id": "1sLdpKYkmox0"
      },
      "execution_count": null,
      "outputs": []
    },
    {
      "cell_type": "markdown",
      "source": [
        "#### Missing Values/Null Values"
      ],
      "metadata": {
        "id": "PoPl-ycgm1ru"
      }
    },
    {
      "cell_type": "code",
      "source": [
        "# counting the missing values/null values of play_store_data\n",
        "print(play_store_data.isnull().sum())"
      ],
      "metadata": {
        "id": "GgHWkxvamxVg"
      },
      "execution_count": null,
      "outputs": []
    },
    {
      "cell_type": "code",
      "source": [
        "# now visualizing the missing values of play_store_data using seaborn heatmap\n",
        "sns.heatmap(play_store_data.isnull(), cbar=False)"
      ],
      "metadata": {
        "id": "3q5wnI3om9sJ"
      },
      "execution_count": null,
      "outputs": []
    },
    {
      "cell_type": "markdown",
      "source": [
        "### What did you know about your dataset?"
      ],
      "metadata": {
        "id": "H0kj-8xxnORC"
      }
    },
    {
      "cell_type": "markdown",
      "source": [
        "As we can see above, here are\n",
        "\n",
        "\n",
        "1.   1474 missing values in the Rating column\n",
        "2.   1 missing value in the Type column\n",
        "3.   1 missing value in the Content Rating column\n",
        "4.   3 missing values in the Android Ver column\n",
        "\n",
        "So there are rows in the dataset that have missing values in these columns, which could potentially affect any analysis or modeling. It is important to handle these missing values appropriately.:"
      ],
      "metadata": {
        "id": "gfoNAAC-nUe_"
      }
    },
    {
      "cell_type": "markdown",
      "source": [
        "## ***2. Understanding Your Variables***"
      ],
      "metadata": {
        "id": "nA9Y7ga8ng1Z"
      }
    },
    {
      "cell_type": "code",
      "source": [
        "# loading the dataset columns of play_store_data\n",
        "play_store_data.columns"
      ],
      "metadata": {
        "id": "j7xfkqrt5Ag5"
      },
      "execution_count": null,
      "outputs": []
    },
    {
      "cell_type": "markdown",
      "source": [
        "The dataset has 13 columns are identified as below:\n",
        "\n",
        "1. **App** - Title of the app.\n",
        "\n",
        "2. **Category** - Category for each app.\n",
        "\n",
        "3. **Rating** - Rating given by the users.\n",
        "\n",
        "4. **Reviews** - Reviews given by the users.\n",
        "\n",
        "5. **Size** - The size of the application.\n",
        "\n",
        "6. **Installs** - How much installation and downloads done.\n",
        "\n",
        "7. **Type** - The application is free or paid version.\n",
        "\n",
        "8. **Price** - The price of the app on Play Store.\n",
        "\n",
        "9. **Content Rating** - Suitable for all age groups or not.\n",
        "\n",
        "10. **Genres** - The various other categories.\n",
        "\n",
        "11. **Last Updated** - When the application was updated.\n",
        "\n",
        "12. **Current Ver** - Current version of the application.\n",
        "13.**Android Ver** - Supportable android version for application."
      ],
      "metadata": {
        "id": "HyHOpXWamGLw"
      }
    },
    {
      "cell_type": "code",
      "source": [
        "# describing the play_store_data\n",
        "play_store_data.describe()"
      ],
      "metadata": {
        "id": "DnOaZdaE5Q5t"
      },
      "execution_count": null,
      "outputs": []
    },
    {
      "cell_type": "markdown",
      "source": [
        "### Variables Description"
      ],
      "metadata": {
        "id": "PBTbrJXOngz2"
      }
    },
    {
      "cell_type": "markdown",
      "source": [
        "It shows the Statistical Summary of the Play Store.\n",
        "\n",
        "* **Count:** the number of non-null values 9367\n",
        "* **Mean:** the average value of the column is 4.193338\n",
        "* **Std:** the standard deviation of the column is 0.537431\n",
        "* **Min:** the minimum value in the column is 1.000000\n",
        "* **25%:** the first quartile value (25th percentile) of the column is 4.000000\n",
        "* **50%:** the median value (50th percentile) of the column is 4.300000\n",
        "* **75%:** the third quartile value (75th percentile) of the column is 4.500000\n",
        "* **Max:** the maximum value in the column is 19.000000"
      ],
      "metadata": {
        "id": "aJV4KIxSnxay"
      }
    },
    {
      "cell_type": "markdown",
      "source": [
        "### Check Unique Values for each variable."
      ],
      "metadata": {
        "id": "u3PMJOP6ngxN"
      }
    },
    {
      "cell_type": "code",
      "source": [
        "# Now checking the unique values for each variable in play_store_data\n",
        "for i in play_store_data.columns.tolist():\n",
        "  print(\"Unique values in\",i,\"is\",play_store_data[i].nunique())"
      ],
      "metadata": {
        "id": "zms12Yq5n-jE"
      },
      "execution_count": null,
      "outputs": []
    },
    {
      "cell_type": "markdown",
      "source": [
        "## 3. ***Data Wrangling***"
      ],
      "metadata": {
        "id": "dauF4eBmngu3"
      }
    },
    {
      "cell_type": "markdown",
      "source": [
        "### Data Wrangling Code"
      ],
      "metadata": {
        "id": "bKJF3rekwFvQ"
      }
    },
    {
      "cell_type": "code",
      "source": [
        "# creating a new empty dataframe to new variable\n",
        "play_store_data_new = pd.DataFrame(index=play_store_data.columns)\n",
        "\n",
        "# now adding datatype, not_null, and null columns to play_store_data_new\n",
        "play_store_data_new[\"DataType\"] = play_store_data.dtypes\n",
        "play_store_data_new[\"not_null\"] = play_store_data.count()\n",
        "play_store_data_new[\"null\"] = play_store_data.isnull().sum()\n",
        "\n",
        "# printing the dataframe\n",
        "play_store_data_new"
      ],
      "metadata": {
        "id": "wk-9a2fpoLcV"
      },
      "execution_count": null,
      "outputs": []
    },
    {
      "cell_type": "code",
      "source": [
        "# checking the rating of play_store_data\n",
        "play_store_data.boxplot()"
      ],
      "metadata": {
        "id": "EHGrNSnmmn4j"
      },
      "execution_count": null,
      "outputs": []
    },
    {
      "cell_type": "code",
      "source": [
        "play_store_data[(play_store_data['Rating'] <1) | (play_store_data['Rating']>5)]"
      ],
      "metadata": {
        "id": "eUscfgFbmtty"
      },
      "execution_count": null,
      "outputs": []
    },
    {
      "cell_type": "markdown",
      "source": [
        "**There is some problem is this row**\n",
        "    \n",
        "*   The app rating is 19\n",
        "*   NaN values present in the Content Rating and Android Ver    \n",
        "\n",
        "That is why we're droping this row"
      ],
      "metadata": {
        "id": "ep82qU76m0xt"
      }
    },
    {
      "cell_type": "code",
      "source": [
        "# now we're removing the above row from play_store_data\n",
        "play_store_data.drop(10472,axis=0,inplace=True)"
      ],
      "metadata": {
        "id": "C94yEJz7CRi8"
      },
      "execution_count": null,
      "outputs": []
    },
    {
      "cell_type": "code",
      "source": [
        "# Time to check it is removed or not\n",
        "play_store_data.boxplot();"
      ],
      "metadata": {
        "id": "61GNj0pHCxUJ"
      },
      "execution_count": null,
      "outputs": []
    },
    {
      "cell_type": "markdown",
      "source": [
        "In this play store dataset, there is still 1474 null values in \"Rating\" that is why we have to fix them so for this first we find the mean and median"
      ],
      "metadata": {
        "id": "z_5r67awC2kF"
      }
    },
    {
      "cell_type": "code",
      "source": [
        "# finding the mean of Rating column from play_store_data\n",
        "rating_mean = play_store_data['Rating'].mean()\n",
        "print(f\"The mean of Rating column is {rating_mean}\")\n",
        "\n",
        "# now finding the median of Rating column from play_store_data\n",
        "rating_median = play_store_data['Rating'].median()\n",
        "print(f\"The median of Rating column is {rating_median}\")"
      ],
      "metadata": {
        "id": "1wb43uO7C3Y2"
      },
      "execution_count": null,
      "outputs": []
    },
    {
      "cell_type": "markdown",
      "source": [
        "\n",
        "*   The mean of Rating Column comes to be 4.2\n",
        "*   The Median of Rating Column comes to be 4.3\n",
        "\n",
        "Here is not much difference between mean and median, that's why we'll replace all the null values with median because it shows that 50% of apps have more than 4.3 rating"
      ],
      "metadata": {
        "id": "Sz_YP8v6DAMc"
      }
    },
    {
      "cell_type": "code",
      "source": [
        "# filling all the null values by the median in Rating column of play_store_data\n",
        "play_store_data['Rating'].fillna(value=rating_median,inplace=True)"
      ],
      "metadata": {
        "id": "sXGytjgZDBH2"
      },
      "execution_count": null,
      "outputs": []
    },
    {
      "cell_type": "code",
      "source": [
        "# Time to check the null values is filled or not\n",
        "print(play_store_data.isnull().sum())"
      ],
      "metadata": {
        "id": "plBbZ9wRDFFQ"
      },
      "execution_count": null,
      "outputs": []
    },
    {
      "cell_type": "markdown",
      "source": [
        "Now, there are still some problems that we have to fix...\n",
        "\n",
        "*   The Type has 1 NaN value.\n",
        "*   The current Var contains 8 NaN values.\n",
        "*   The Android Var contains 2 NaN values."
      ],
      "metadata": {
        "id": "xdFj1EMfDMpA"
      }
    },
    {
      "cell_type": "code",
      "source": [
        "# checking the Type's NaN value in Type column of play_store_data\n",
        "play_store_data[(play_store_data['Type'].isnull())]"
      ],
      "metadata": {
        "id": "mczNaDTPDLtj"
      },
      "execution_count": null,
      "outputs": []
    },
    {
      "cell_type": "markdown",
      "source": [
        "\n",
        "In the Type, the price is 0, so basically it is a free app, in this metter we replace that NaN value with Free."
      ],
      "metadata": {
        "id": "AHXMPffSDVO_"
      }
    },
    {
      "cell_type": "code",
      "source": [
        "# counting the free and paid versions of applications in play_store_data\n",
        "play_store_data['Type'].value_counts()"
      ],
      "metadata": {
        "id": "BJROKeDHDWIJ"
      },
      "execution_count": null,
      "outputs": []
    },
    {
      "cell_type": "code",
      "source": [
        "# now we replace the NaN value of Type\n",
        "play_store_data.loc[9148,'Type']='Free'"
      ],
      "metadata": {
        "id": "6Ge5vdJaDi_a"
      },
      "execution_count": null,
      "outputs": []
    },
    {
      "cell_type": "code",
      "source": [
        "# Time to check it is fixed or not\n",
        "play_store_data[(play_store_data['Type'].isnull())]"
      ],
      "metadata": {
        "id": "QqZPxx0zDlCH"
      },
      "execution_count": null,
      "outputs": []
    },
    {
      "cell_type": "code",
      "source": [
        "# Time to fix the Current Ver's null values in play_store_data\n",
        "play_store_data[(play_store_data['Current Ver'].isnull())]"
      ],
      "metadata": {
        "id": "5VqIB-zqDsiK"
      },
      "execution_count": null,
      "outputs": []
    },
    {
      "cell_type": "markdown",
      "source": [
        "\n",
        "At above, the Current Ver has NaN values, in this metter we'll drop NaN values."
      ],
      "metadata": {
        "id": "KURJLL2zDxhs"
      }
    },
    {
      "cell_type": "code",
      "source": [
        "# droping all the NaN values of Current Ver column from play_store_data\n",
        "play_store_data.drop([15,1553,6322,6803,7333,7407,7730,10342],axis=0,inplace=True)"
      ],
      "metadata": {
        "id": "6I1Nmgz7DyXL"
      },
      "execution_count": null,
      "outputs": []
    },
    {
      "cell_type": "code",
      "source": [
        "# Time to check all the Nan values are droped or not\n",
        "play_store_data[(play_store_data['Current Ver'].isnull())]"
      ],
      "metadata": {
        "id": "odZ51SBmD3F_"
      },
      "execution_count": null,
      "outputs": []
    },
    {
      "cell_type": "code",
      "source": [
        "# checking the Android Ver's NaN value which is shown when we used this commmand: print(play_store_data.isnull().sum())\n",
        "play_store_data[(play_store_data['Android Ver'].isnull())]"
      ],
      "metadata": {
        "id": "dmXYH4qMD_CE"
      },
      "execution_count": null,
      "outputs": []
    },
    {
      "cell_type": "markdown",
      "source": [
        "At this, the Android Ver has NaN values, in this metter we'll drop NaN values also."
      ],
      "metadata": {
        "id": "MjOgj1rDEDlg"
      }
    },
    {
      "cell_type": "code",
      "source": [
        "# droping the NaN values of Android Ver column from play_store_data\n",
        "play_store_data.drop([4453,4490],axis=0,inplace=True)"
      ],
      "metadata": {
        "id": "Ku4Ojj1mEEi-"
      },
      "execution_count": null,
      "outputs": []
    },
    {
      "cell_type": "code",
      "source": [
        "# Time to check these Nan values are droped or not\n",
        "play_store_data[(play_store_data['Android Ver'].isnull())]"
      ],
      "metadata": {
        "id": "MxZiqqswEKOE"
      },
      "execution_count": null,
      "outputs": []
    },
    {
      "cell_type": "markdown",
      "source": [
        "### **Time to Handle all Data Types for Every Columns**"
      ],
      "metadata": {
        "id": "kzArcEX_Fp-W"
      }
    },
    {
      "cell_type": "code",
      "source": [
        "# checking the data type in Size column in play_store_data\n",
        "play_store_data['Size']"
      ],
      "metadata": {
        "id": "g8z7I-JuFust"
      },
      "execution_count": null,
      "outputs": []
    },
    {
      "cell_type": "markdown",
      "source": [
        "\n",
        "The \"Size\" has different units.\n",
        "\n",
        "*   M means MB\n",
        "*   K means KB\n",
        "\n",
        "So We'll fix this using convert them into single unit."
      ],
      "metadata": {
        "id": "K7jUyY_GF167"
      }
    },
    {
      "cell_type": "code",
      "source": [
        "# checking the data type in Price column in play_store_data\n",
        "play_store_data['Price'].value_counts()"
      ],
      "metadata": {
        "id": "cbsrNV2WF5tf"
      },
      "execution_count": null,
      "outputs": []
    },
    {
      "cell_type": "markdown",
      "source": [
        "The $ sign maybe a problem in \"Price\" so We'll remove them."
      ],
      "metadata": {
        "id": "oJuvVpPCGCwL"
      }
    },
    {
      "cell_type": "code",
      "source": [
        "# checking the data type in Installs column in play_store_data\n",
        "play_store_data['Installs'].value_counts()"
      ],
      "metadata": {
        "id": "jIvuApIlGDs8"
      },
      "execution_count": null,
      "outputs": []
    },
    {
      "cell_type": "markdown",
      "source": [
        "In this \"Installs\" we have to remove these signs: +(plus) and ,(comma)"
      ],
      "metadata": {
        "id": "y5I9UcRCGSSZ"
      }
    },
    {
      "cell_type": "code",
      "source": [
        "# we're trying to remove +(plus) and ,(comma) from Installs\n",
        "def remove_from_install(a):\n",
        "    if type(a) == str:\n",
        "        a = a.replace(',', '').replace('+', '')\n",
        "    return a\n",
        "\n",
        "play_store_data['Installs'] = play_store_data['Installs'].apply(remove_from_install)"
      ],
      "metadata": {
        "id": "o2g2FhrrGVLj"
      },
      "execution_count": null,
      "outputs": []
    },
    {
      "cell_type": "code",
      "source": [
        "# we're trying to remove dollar sign from Price\n",
        "def remove_from_price(b):\n",
        "    if type(b) == str and '$' in b:\n",
        "        b = b.replace('$', '')\n",
        "    return b\n",
        "\n",
        "play_store_data['Price'] = play_store_data['Price'].apply(remove_from_price)"
      ],
      "metadata": {
        "id": "FRwh0xNlGWgP"
      },
      "execution_count": null,
      "outputs": []
    },
    {
      "cell_type": "code",
      "source": [
        "# now we're converting 'Reviews' to numeric in play_store_data\n",
        "play_store_data['Reviews'] = play_store_data['Reviews'].astype(float)\n",
        "\n",
        "# cleaning and converting 'Size' to numeric\n",
        "def clean_size(x):\n",
        "    if 'Varies with device' in str(x):\n",
        "        return np.nan\n",
        "    elif 'k' in str(x):\n",
        "        return float(str(x).replace('k', '')) / 1024\n",
        "    else:\n",
        "        return float(str(x).replace('M', ''))\n",
        "\n",
        "\n",
        "play_store_data['Size'] = play_store_data['Size'].apply(clean_size)\n",
        "\n",
        "# cleaning and converting 'Installs' to numeric\n",
        "play_store_data['Installs'] = play_store_data['Installs'].replace('[^\\d]', '', regex=True).astype(float)\n",
        "\n",
        "\n",
        "# cleaning and converting 'Price' to numeric\n",
        "play_store_data['Price'] = play_store_data['Price'].replace('[^\\d\\.]', '', regex=True).astype(float)\n",
        "\n",
        "# time to print\n",
        "play_store_data.info()"
      ],
      "metadata": {
        "id": "7nu6wciOGbRx"
      },
      "execution_count": null,
      "outputs": []
    },
    {
      "cell_type": "markdown",
      "source": [
        "### **Time to Remove Duplicate Apps**"
      ],
      "metadata": {
        "id": "mww3YVnpGkf4"
      }
    },
    {
      "cell_type": "code",
      "source": [
        "# using head()\n",
        "play_store_data.head(10)"
      ],
      "metadata": {
        "id": "XiwzxZE9Gnqk"
      },
      "execution_count": null,
      "outputs": []
    },
    {
      "cell_type": "code",
      "source": [
        "# checking the values of App from play_store_data\n",
        "play_store_data['App'].value_counts()"
      ],
      "metadata": {
        "id": "NHt1cxa4GsXY"
      },
      "execution_count": null,
      "outputs": []
    },
    {
      "cell_type": "code",
      "source": [
        "# calculating the duplicate value in \"App\" column in play_store_data\n",
        "play_store_data['App'].duplicated().sum()"
      ],
      "metadata": {
        "id": "4kEZB4QXGw_Q"
      },
      "execution_count": null,
      "outputs": []
    },
    {
      "cell_type": "markdown",
      "source": [
        "Here are 1181 dublicates values in column which we'll remove."
      ],
      "metadata": {
        "id": "3MI9mbyQGyw_"
      }
    },
    {
      "cell_type": "code",
      "source": [
        "# dropping duplicates value in \"App\" in play_store_data\n",
        "play_store_data.drop_duplicates(subset='App',inplace=True)"
      ],
      "metadata": {
        "id": "jfwrADbQG0_C"
      },
      "execution_count": null,
      "outputs": []
    },
    {
      "cell_type": "code",
      "source": [
        "# time to check duplicates are removed or not\n",
        "play_store_data['App'].duplicated().sum()"
      ],
      "metadata": {
        "id": "Ig2gu1GzG7mu"
      },
      "execution_count": null,
      "outputs": []
    },
    {
      "cell_type": "markdown",
      "source": [
        "## **Summary**\n",
        "\n",
        "*   All duplicates values removed from dataset.\n",
        "*   All null values are removed or replaced.  \n",
        "*   Converted the datatypes of the particular column and also removed all the unwanted characters."
      ],
      "metadata": {
        "id": "y944RhwMHE2e"
      }
    },
    {
      "cell_type": "markdown",
      "source": [
        "### **2nd Step: Data Cleaning on User Review dataset**"
      ],
      "metadata": {
        "id": "aGyrODhpHIxU"
      }
    },
    {
      "cell_type": "code",
      "source": [
        "# now we're importing the User Reviews.csv from Google Drive as user_reviews_data\n",
        "user_reviews_data = pd.read_csv('/content/drive/MyDrive/Colab Notebooks/Capstone Projects/Play Store App Review/User Reviews.csv')"
      ],
      "metadata": {
        "id": "M8fryXbpHNXD"
      },
      "execution_count": null,
      "outputs": []
    },
    {
      "cell_type": "code",
      "source": [
        "# using head() to show top 10 rows of user_reviews_data\n",
        "user_reviews_data.head(10)"
      ],
      "metadata": {
        "id": "B8SJAvUNH6Vc"
      },
      "execution_count": null,
      "outputs": []
    },
    {
      "cell_type": "code",
      "source": [
        "# using tail() to show last 10 rows of user_reviews_data\n",
        "user_reviews_data.tail(10)"
      ],
      "metadata": {
        "id": "E8Y7N0Z1H_q_"
      },
      "execution_count": null,
      "outputs": []
    },
    {
      "cell_type": "code",
      "source": [
        "# checking the shape (number of rows and columns) of user_reviews_data\n",
        "user_reviews_data.shape"
      ],
      "metadata": {
        "id": "-TxwEhwSIEKL"
      },
      "execution_count": null,
      "outputs": []
    },
    {
      "cell_type": "code",
      "source": [
        "# checking the columns of user_reviews_data\n",
        "user_reviews_data.columns"
      ],
      "metadata": {
        "id": "ScW-GCMzIIXL"
      },
      "execution_count": null,
      "outputs": []
    },
    {
      "cell_type": "markdown",
      "source": [
        "# The dataset has 5 columns are identified as below:\n",
        "\n",
        "\n",
        "1.   **App:** Title of the application.\n",
        "2.   **Translated_Review:** It contains the English translation of the review.\n",
        "3.   **Sentiment:** It gives the emotion like ‘Positive’, ‘Negative’, or ‘Neutral’.\n",
        "4.   **Sentiment_Polarity:** It gives the polarity of the review. Its range is [-1,1], where 1 means ‘Positive statement’ and -1 means a ‘Negative statement’.\n",
        "5.    **Sentiment_Subjectivity:** This value gives how close a reviewers opinion is to the opinion of the general public. Its range is[0,1]."
      ],
      "metadata": {
        "id": "_-U0bz6MIMne"
      }
    },
    {
      "cell_type": "code",
      "source": [
        "# using the info of user_reviews_data\n",
        "user_reviews_data.info()"
      ],
      "metadata": {
        "id": "H4sR9c_GIQ50"
      },
      "execution_count": null,
      "outputs": []
    },
    {
      "cell_type": "code",
      "source": [
        "# creating a new empty dataframe to new variable\n",
        "user_reviews_data_new = pd.DataFrame(index=user_reviews_data.columns)\n",
        "\n",
        "# now adding datatype, not_null, and null columns to user_reviews_data_new\n",
        "user_reviews_data_new[\"DataType\"] = user_reviews_data.dtypes\n",
        "user_reviews_data_new[\"not_null\"] = user_reviews_data.count()\n",
        "user_reviews_data_new[\"null\"] = user_reviews_data.isnull().sum()\n",
        "\n",
        "# printing the dataframe\n",
        "user_reviews_data_new"
      ],
      "metadata": {
        "id": "2NnyzdJdISeJ"
      },
      "execution_count": null,
      "outputs": []
    },
    {
      "cell_type": "code",
      "source": [
        "# finding the NaN value of Sentiment_Polarity column in user_reviews_data\n",
        "user_reviews_data[(user_reviews_data['Sentiment_Polarity'].isnull())]"
      ],
      "metadata": {
        "id": "eIuxDZnKIa5O"
      },
      "execution_count": null,
      "outputs": []
    },
    {
      "cell_type": "code",
      "source": [
        "# counting the values of Sentiment_Polarity from user_reviews_data\n",
        "user_reviews_data['Sentiment_Polarity'].value_counts()"
      ],
      "metadata": {
        "id": "OP8d9nckIfhh"
      },
      "execution_count": null,
      "outputs": []
    },
    {
      "cell_type": "markdown",
      "source": [
        "Generally we are seeing all of the columns with \"Sentiment Polarity\" has null values so and they are categorical values so we droping all the null values from datasets."
      ],
      "metadata": {
        "id": "D1RlEO3cIkkh"
      }
    },
    {
      "cell_type": "code",
      "source": [
        "# droping all null values from user_reviews_data\n",
        "user_reviews_data.dropna(inplace = True)"
      ],
      "metadata": {
        "id": "2kIPXHynIl30"
      },
      "execution_count": null,
      "outputs": []
    },
    {
      "cell_type": "code",
      "source": [
        "# time to check is there any null values now\n",
        "user_reviews_data[(user_reviews_data['Sentiment_Polarity'].isnull())]"
      ],
      "metadata": {
        "id": "HiFzq6qeIoZj"
      },
      "execution_count": null,
      "outputs": []
    },
    {
      "cell_type": "code",
      "source": [
        "# now time to check the data as little cleaned or not\n",
        "user_reviews_data.head(20)"
      ],
      "metadata": {
        "id": "S04eAKliIte5"
      },
      "execution_count": null,
      "outputs": []
    },
    {
      "cell_type": "markdown",
      "source": [
        "**This is perfect for now**"
      ],
      "metadata": {
        "id": "8QA6KLsrI0w9"
      }
    },
    {
      "cell_type": "markdown",
      "source": [
        "### What all manipulations have you done and insights you found?"
      ],
      "metadata": {
        "id": "MSa1f5Uengrz"
      }
    },
    {
      "cell_type": "markdown",
      "source": [
        "Answer Here."
      ],
      "metadata": {
        "id": "LbyXE7I1olp8"
      }
    },
    {
      "cell_type": "markdown",
      "source": [
        "## ***4. Data Vizualization, Storytelling & Experimenting with charts : Understand the relationships between variables***"
      ],
      "metadata": {
        "id": "GF8Ens_Soomf"
      }
    },
    {
      "cell_type": "markdown",
      "source": [
        "#### Chart - 1"
      ],
      "metadata": {
        "id": "0wOQAZs5pc--"
      }
    },
    {
      "cell_type": "code",
      "source": [
        "# Chart - 1 visualization code"
      ],
      "metadata": {
        "id": "7v_ESjsspbW7"
      },
      "execution_count": null,
      "outputs": []
    },
    {
      "cell_type": "markdown",
      "source": [
        "##### 1. Why did you pick the specific chart?"
      ],
      "metadata": {
        "id": "K5QZ13OEpz2H"
      }
    },
    {
      "cell_type": "markdown",
      "source": [
        "Answer Here."
      ],
      "metadata": {
        "id": "XESiWehPqBRc"
      }
    },
    {
      "cell_type": "markdown",
      "source": [
        "##### 2. What is/are the insight(s) found from the chart?"
      ],
      "metadata": {
        "id": "lQ7QKXXCp7Bj"
      }
    },
    {
      "cell_type": "markdown",
      "source": [
        "Answer Here"
      ],
      "metadata": {
        "id": "C_j1G7yiqdRP"
      }
    },
    {
      "cell_type": "markdown",
      "source": [
        "##### 3. Will the gained insights help creating a positive business impact?\n",
        "Are there any insights that lead to negative growth? Justify with specific reason."
      ],
      "metadata": {
        "id": "448CDAPjqfQr"
      }
    },
    {
      "cell_type": "markdown",
      "source": [
        "Answer Here"
      ],
      "metadata": {
        "id": "3cspy4FjqxJW"
      }
    },
    {
      "cell_type": "markdown",
      "source": [
        "#### Chart - 2"
      ],
      "metadata": {
        "id": "KSlN3yHqYklG"
      }
    },
    {
      "cell_type": "code",
      "source": [
        "# Chart - 2 visualization code"
      ],
      "metadata": {
        "id": "R4YgtaqtYklH"
      },
      "execution_count": null,
      "outputs": []
    },
    {
      "cell_type": "markdown",
      "source": [
        "##### 1. Why did you pick the specific chart?"
      ],
      "metadata": {
        "id": "t6dVpIINYklI"
      }
    },
    {
      "cell_type": "markdown",
      "source": [
        "Answer Here."
      ],
      "metadata": {
        "id": "5aaW0BYyYklI"
      }
    },
    {
      "cell_type": "markdown",
      "source": [
        "##### 2. What is/are the insight(s) found from the chart?"
      ],
      "metadata": {
        "id": "ijmpgYnKYklI"
      }
    },
    {
      "cell_type": "markdown",
      "source": [
        "Answer Here"
      ],
      "metadata": {
        "id": "PSx9atu2YklI"
      }
    },
    {
      "cell_type": "markdown",
      "source": [
        "##### 3. Will the gained insights help creating a positive business impact?\n",
        "Are there any insights that lead to negative growth? Justify with specific reason."
      ],
      "metadata": {
        "id": "-JiQyfWJYklI"
      }
    },
    {
      "cell_type": "markdown",
      "source": [
        "Answer Here"
      ],
      "metadata": {
        "id": "BcBbebzrYklV"
      }
    },
    {
      "cell_type": "markdown",
      "source": [
        "#### Chart - 3"
      ],
      "metadata": {
        "id": "EM7whBJCYoAo"
      }
    },
    {
      "cell_type": "code",
      "source": [
        "# Chart - 3 visualization code"
      ],
      "metadata": {
        "id": "t6GMdE67YoAp"
      },
      "execution_count": null,
      "outputs": []
    },
    {
      "cell_type": "markdown",
      "source": [
        "##### 1. Why did you pick the specific chart?"
      ],
      "metadata": {
        "id": "fge-S5ZAYoAp"
      }
    },
    {
      "cell_type": "markdown",
      "source": [
        "Answer Here."
      ],
      "metadata": {
        "id": "5dBItgRVYoAp"
      }
    },
    {
      "cell_type": "markdown",
      "source": [
        "##### 2. What is/are the insight(s) found from the chart?"
      ],
      "metadata": {
        "id": "85gYPyotYoAp"
      }
    },
    {
      "cell_type": "markdown",
      "source": [
        "Answer Here"
      ],
      "metadata": {
        "id": "4jstXR6OYoAp"
      }
    },
    {
      "cell_type": "markdown",
      "source": [
        "##### 3. Will the gained insights help creating a positive business impact?\n",
        "Are there any insights that lead to negative growth? Justify with specific reason."
      ],
      "metadata": {
        "id": "RoGjAbkUYoAp"
      }
    },
    {
      "cell_type": "markdown",
      "source": [
        "Answer Here"
      ],
      "metadata": {
        "id": "zfJ8IqMcYoAp"
      }
    },
    {
      "cell_type": "markdown",
      "source": [
        "#### Chart - 4"
      ],
      "metadata": {
        "id": "4Of9eVA-YrdM"
      }
    },
    {
      "cell_type": "code",
      "source": [
        "# Chart - 4 visualization code"
      ],
      "metadata": {
        "id": "irlUoxc8YrdO"
      },
      "execution_count": null,
      "outputs": []
    },
    {
      "cell_type": "markdown",
      "source": [
        "##### 1. Why did you pick the specific chart?"
      ],
      "metadata": {
        "id": "iky9q4vBYrdO"
      }
    },
    {
      "cell_type": "markdown",
      "source": [
        "Answer Here."
      ],
      "metadata": {
        "id": "aJRCwT6DYrdO"
      }
    },
    {
      "cell_type": "markdown",
      "source": [
        "##### 2. What is/are the insight(s) found from the chart?"
      ],
      "metadata": {
        "id": "F6T5p64dYrdO"
      }
    },
    {
      "cell_type": "markdown",
      "source": [
        "Answer Here"
      ],
      "metadata": {
        "id": "Xx8WAJvtYrdO"
      }
    },
    {
      "cell_type": "markdown",
      "source": [
        "##### 3. Will the gained insights help creating a positive business impact?\n",
        "Are there any insights that lead to negative growth? Justify with specific reason."
      ],
      "metadata": {
        "id": "y-Ehk30pYrdP"
      }
    },
    {
      "cell_type": "markdown",
      "source": [
        "Answer Here"
      ],
      "metadata": {
        "id": "jLNxxz7MYrdP"
      }
    },
    {
      "cell_type": "markdown",
      "source": [
        "#### Chart - 5"
      ],
      "metadata": {
        "id": "bamQiAODYuh1"
      }
    },
    {
      "cell_type": "code",
      "source": [
        "# Chart - 5 visualization code"
      ],
      "metadata": {
        "id": "TIJwrbroYuh3"
      },
      "execution_count": null,
      "outputs": []
    },
    {
      "cell_type": "markdown",
      "source": [
        "##### 1. Why did you pick the specific chart?"
      ],
      "metadata": {
        "id": "QHF8YVU7Yuh3"
      }
    },
    {
      "cell_type": "markdown",
      "source": [
        "Answer Here."
      ],
      "metadata": {
        "id": "dcxuIMRPYuh3"
      }
    },
    {
      "cell_type": "markdown",
      "source": [
        "##### 2. What is/are the insight(s) found from the chart?"
      ],
      "metadata": {
        "id": "GwzvFGzlYuh3"
      }
    },
    {
      "cell_type": "markdown",
      "source": [
        "Answer Here"
      ],
      "metadata": {
        "id": "uyqkiB8YYuh3"
      }
    },
    {
      "cell_type": "markdown",
      "source": [
        "##### 3. Will the gained insights help creating a positive business impact?\n",
        "Are there any insights that lead to negative growth? Justify with specific reason."
      ],
      "metadata": {
        "id": "qYpmQ266Yuh3"
      }
    },
    {
      "cell_type": "markdown",
      "source": [
        "Answer Here"
      ],
      "metadata": {
        "id": "_WtzZ_hCYuh4"
      }
    },
    {
      "cell_type": "markdown",
      "source": [
        "#### Chart - 6"
      ],
      "metadata": {
        "id": "OH-pJp9IphqM"
      }
    },
    {
      "cell_type": "code",
      "source": [
        "# Chart - 6 visualization code"
      ],
      "metadata": {
        "id": "kuRf4wtuphqN"
      },
      "execution_count": null,
      "outputs": []
    },
    {
      "cell_type": "markdown",
      "source": [
        "##### 1. Why did you pick the specific chart?"
      ],
      "metadata": {
        "id": "bbFf2-_FphqN"
      }
    },
    {
      "cell_type": "markdown",
      "source": [
        "Answer Here."
      ],
      "metadata": {
        "id": "loh7H2nzphqN"
      }
    },
    {
      "cell_type": "markdown",
      "source": [
        "##### 2. What is/are the insight(s) found from the chart?"
      ],
      "metadata": {
        "id": "_ouA3fa0phqN"
      }
    },
    {
      "cell_type": "markdown",
      "source": [
        "Answer Here"
      ],
      "metadata": {
        "id": "VECbqPI7phqN"
      }
    },
    {
      "cell_type": "markdown",
      "source": [
        "##### 3. Will the gained insights help creating a positive business impact?\n",
        "Are there any insights that lead to negative growth? Justify with specific reason."
      ],
      "metadata": {
        "id": "Seke61FWphqN"
      }
    },
    {
      "cell_type": "markdown",
      "source": [
        "Answer Here"
      ],
      "metadata": {
        "id": "DW4_bGpfphqN"
      }
    },
    {
      "cell_type": "markdown",
      "source": [
        "#### Chart - 7"
      ],
      "metadata": {
        "id": "PIIx-8_IphqN"
      }
    },
    {
      "cell_type": "code",
      "source": [
        "# Chart - 7 visualization code"
      ],
      "metadata": {
        "id": "lqAIGUfyphqO"
      },
      "execution_count": null,
      "outputs": []
    },
    {
      "cell_type": "markdown",
      "source": [
        "##### 1. Why did you pick the specific chart?"
      ],
      "metadata": {
        "id": "t27r6nlMphqO"
      }
    },
    {
      "cell_type": "markdown",
      "source": [
        "Answer Here."
      ],
      "metadata": {
        "id": "iv6ro40sphqO"
      }
    },
    {
      "cell_type": "markdown",
      "source": [
        "##### 2. What is/are the insight(s) found from the chart?"
      ],
      "metadata": {
        "id": "r2jJGEOYphqO"
      }
    },
    {
      "cell_type": "markdown",
      "source": [
        "Answer Here"
      ],
      "metadata": {
        "id": "Po6ZPi4hphqO"
      }
    },
    {
      "cell_type": "markdown",
      "source": [
        "##### 3. Will the gained insights help creating a positive business impact?\n",
        "Are there any insights that lead to negative growth? Justify with specific reason."
      ],
      "metadata": {
        "id": "b0JNsNcRphqO"
      }
    },
    {
      "cell_type": "markdown",
      "source": [
        "Answer Here"
      ],
      "metadata": {
        "id": "xvSq8iUTphqO"
      }
    },
    {
      "cell_type": "markdown",
      "source": [
        "#### Chart - 8"
      ],
      "metadata": {
        "id": "BZR9WyysphqO"
      }
    },
    {
      "cell_type": "code",
      "source": [
        "# Chart - 8 visualization code"
      ],
      "metadata": {
        "id": "TdPTWpAVphqO"
      },
      "execution_count": null,
      "outputs": []
    },
    {
      "cell_type": "markdown",
      "source": [
        "##### 1. Why did you pick the specific chart?"
      ],
      "metadata": {
        "id": "jj7wYXLtphqO"
      }
    },
    {
      "cell_type": "markdown",
      "source": [
        "Answer Here."
      ],
      "metadata": {
        "id": "Ob8u6rCTphqO"
      }
    },
    {
      "cell_type": "markdown",
      "source": [
        "##### 2. What is/are the insight(s) found from the chart?"
      ],
      "metadata": {
        "id": "eZrbJ2SmphqO"
      }
    },
    {
      "cell_type": "markdown",
      "source": [
        "Answer Here"
      ],
      "metadata": {
        "id": "mZtgC_hjphqO"
      }
    },
    {
      "cell_type": "markdown",
      "source": [
        "##### 3. Will the gained insights help creating a positive business impact?\n",
        "Are there any insights that lead to negative growth? Justify with specific reason."
      ],
      "metadata": {
        "id": "rFu4xreNphqO"
      }
    },
    {
      "cell_type": "markdown",
      "source": [
        "Answer Here"
      ],
      "metadata": {
        "id": "ey_0qi68phqO"
      }
    },
    {
      "cell_type": "markdown",
      "source": [
        "#### Chart - 9"
      ],
      "metadata": {
        "id": "YJ55k-q6phqO"
      }
    },
    {
      "cell_type": "code",
      "source": [
        "# Chart - 9 visualization code"
      ],
      "metadata": {
        "id": "B2aS4O1ophqO"
      },
      "execution_count": null,
      "outputs": []
    },
    {
      "cell_type": "markdown",
      "source": [
        "##### 1. Why did you pick the specific chart?"
      ],
      "metadata": {
        "id": "gCFgpxoyphqP"
      }
    },
    {
      "cell_type": "markdown",
      "source": [
        "Answer Here."
      ],
      "metadata": {
        "id": "TVxDimi2phqP"
      }
    },
    {
      "cell_type": "markdown",
      "source": [
        "##### 2. What is/are the insight(s) found from the chart?"
      ],
      "metadata": {
        "id": "OVtJsKN_phqQ"
      }
    },
    {
      "cell_type": "markdown",
      "source": [
        "Answer Here"
      ],
      "metadata": {
        "id": "ngGi97qjphqQ"
      }
    },
    {
      "cell_type": "markdown",
      "source": [
        "##### 3. Will the gained insights help creating a positive business impact?\n",
        "Are there any insights that lead to negative growth? Justify with specific reason."
      ],
      "metadata": {
        "id": "lssrdh5qphqQ"
      }
    },
    {
      "cell_type": "markdown",
      "source": [
        "Answer Here"
      ],
      "metadata": {
        "id": "tBpY5ekJphqQ"
      }
    },
    {
      "cell_type": "markdown",
      "source": [
        "#### Chart - 10"
      ],
      "metadata": {
        "id": "U2RJ9gkRphqQ"
      }
    },
    {
      "cell_type": "code",
      "source": [
        "# Chart - 10 visualization code"
      ],
      "metadata": {
        "id": "GM7a4YP4phqQ"
      },
      "execution_count": null,
      "outputs": []
    },
    {
      "cell_type": "markdown",
      "source": [
        "##### 1. Why did you pick the specific chart?"
      ],
      "metadata": {
        "id": "1M8mcRywphqQ"
      }
    },
    {
      "cell_type": "markdown",
      "source": [
        "Answer Here."
      ],
      "metadata": {
        "id": "8agQvks0phqQ"
      }
    },
    {
      "cell_type": "markdown",
      "source": [
        "##### 2. What is/are the insight(s) found from the chart?"
      ],
      "metadata": {
        "id": "tgIPom80phqQ"
      }
    },
    {
      "cell_type": "markdown",
      "source": [
        "Answer Here"
      ],
      "metadata": {
        "id": "Qp13pnNzphqQ"
      }
    },
    {
      "cell_type": "markdown",
      "source": [
        "##### 3. Will the gained insights help creating a positive business impact?\n",
        "Are there any insights that lead to negative growth? Justify with specific reason."
      ],
      "metadata": {
        "id": "JMzcOPDDphqR"
      }
    },
    {
      "cell_type": "markdown",
      "source": [
        "Answer Here"
      ],
      "metadata": {
        "id": "R4Ka1PC2phqR"
      }
    },
    {
      "cell_type": "markdown",
      "source": [
        "#### Chart - 11"
      ],
      "metadata": {
        "id": "x-EpHcCOp1ci"
      }
    },
    {
      "cell_type": "code",
      "source": [
        "# Chart - 11 visualization code"
      ],
      "metadata": {
        "id": "mAQTIvtqp1cj"
      },
      "execution_count": null,
      "outputs": []
    },
    {
      "cell_type": "markdown",
      "source": [
        "##### 1. Why did you pick the specific chart?"
      ],
      "metadata": {
        "id": "X_VqEhTip1ck"
      }
    },
    {
      "cell_type": "markdown",
      "source": [
        "Answer Here."
      ],
      "metadata": {
        "id": "-vsMzt_np1ck"
      }
    },
    {
      "cell_type": "markdown",
      "source": [
        "##### 2. What is/are the insight(s) found from the chart?"
      ],
      "metadata": {
        "id": "8zGJKyg5p1ck"
      }
    },
    {
      "cell_type": "markdown",
      "source": [
        "Answer Here"
      ],
      "metadata": {
        "id": "ZYdMsrqVp1ck"
      }
    },
    {
      "cell_type": "markdown",
      "source": [
        "##### 3. Will the gained insights help creating a positive business impact?\n",
        "Are there any insights that lead to negative growth? Justify with specific reason."
      ],
      "metadata": {
        "id": "PVzmfK_Ep1ck"
      }
    },
    {
      "cell_type": "markdown",
      "source": [
        "Answer Here"
      ],
      "metadata": {
        "id": "druuKYZpp1ck"
      }
    },
    {
      "cell_type": "markdown",
      "source": [
        "#### Chart - 12"
      ],
      "metadata": {
        "id": "n3dbpmDWp1ck"
      }
    },
    {
      "cell_type": "code",
      "source": [
        "# Chart - 12 visualization code"
      ],
      "metadata": {
        "id": "bwevp1tKp1ck"
      },
      "execution_count": null,
      "outputs": []
    },
    {
      "cell_type": "markdown",
      "source": [
        "##### 1. Why did you pick the specific chart?"
      ],
      "metadata": {
        "id": "ylSl6qgtp1ck"
      }
    },
    {
      "cell_type": "markdown",
      "source": [
        "Answer Here."
      ],
      "metadata": {
        "id": "m2xqNkiQp1ck"
      }
    },
    {
      "cell_type": "markdown",
      "source": [
        "##### 2. What is/are the insight(s) found from the chart?"
      ],
      "metadata": {
        "id": "ZWILFDl5p1ck"
      }
    },
    {
      "cell_type": "markdown",
      "source": [
        "Answer Here"
      ],
      "metadata": {
        "id": "x-lUsV2mp1ck"
      }
    },
    {
      "cell_type": "markdown",
      "source": [
        "##### 3. Will the gained insights help creating a positive business impact?\n",
        "Are there any insights that lead to negative growth? Justify with specific reason."
      ],
      "metadata": {
        "id": "M7G43BXep1ck"
      }
    },
    {
      "cell_type": "markdown",
      "source": [
        "Answer Here"
      ],
      "metadata": {
        "id": "5wwDJXsLp1cl"
      }
    },
    {
      "cell_type": "markdown",
      "source": [
        "#### Chart - 13"
      ],
      "metadata": {
        "id": "Ag9LCva-p1cl"
      }
    },
    {
      "cell_type": "code",
      "source": [
        "# Chart - 13 visualization code"
      ],
      "metadata": {
        "id": "EUfxeq9-p1cl"
      },
      "execution_count": null,
      "outputs": []
    },
    {
      "cell_type": "markdown",
      "source": [
        "##### 1. Why did you pick the specific chart?"
      ],
      "metadata": {
        "id": "E6MkPsBcp1cl"
      }
    },
    {
      "cell_type": "markdown",
      "source": [
        "Answer Here."
      ],
      "metadata": {
        "id": "V22bRsFWp1cl"
      }
    },
    {
      "cell_type": "markdown",
      "source": [
        "##### 2. What is/are the insight(s) found from the chart?"
      ],
      "metadata": {
        "id": "2cELzS2fp1cl"
      }
    },
    {
      "cell_type": "markdown",
      "source": [
        "Answer Here"
      ],
      "metadata": {
        "id": "ozQPc2_Ip1cl"
      }
    },
    {
      "cell_type": "markdown",
      "source": [
        "##### 3. Will the gained insights help creating a positive business impact?\n",
        "Are there any insights that lead to negative growth? Justify with specific reason."
      ],
      "metadata": {
        "id": "3MPXvC8up1cl"
      }
    },
    {
      "cell_type": "markdown",
      "source": [
        "Answer Here"
      ],
      "metadata": {
        "id": "GL8l1tdLp1cl"
      }
    },
    {
      "cell_type": "markdown",
      "source": [
        "#### Chart - 14 - Correlation Heatmap"
      ],
      "metadata": {
        "id": "NC_X3p0fY2L0"
      }
    },
    {
      "cell_type": "code",
      "source": [
        "# Correlation Heatmap visualization code"
      ],
      "metadata": {
        "id": "xyC9zolEZNRQ"
      },
      "execution_count": null,
      "outputs": []
    },
    {
      "cell_type": "markdown",
      "source": [
        "##### 1. Why did you pick the specific chart?"
      ],
      "metadata": {
        "id": "UV0SzAkaZNRQ"
      }
    },
    {
      "cell_type": "markdown",
      "source": [
        "Answer Here."
      ],
      "metadata": {
        "id": "DVPuT8LYZNRQ"
      }
    },
    {
      "cell_type": "markdown",
      "source": [
        "##### 2. What is/are the insight(s) found from the chart?"
      ],
      "metadata": {
        "id": "YPEH6qLeZNRQ"
      }
    },
    {
      "cell_type": "markdown",
      "source": [
        "Answer Here"
      ],
      "metadata": {
        "id": "bfSqtnDqZNRR"
      }
    },
    {
      "cell_type": "markdown",
      "source": [
        "#### Chart - 15 - Pair Plot"
      ],
      "metadata": {
        "id": "q29F0dvdveiT"
      }
    },
    {
      "cell_type": "code",
      "source": [
        "# Pair Plot visualization code"
      ],
      "metadata": {
        "id": "o58-TEIhveiU"
      },
      "execution_count": null,
      "outputs": []
    },
    {
      "cell_type": "markdown",
      "source": [
        "##### 1. Why did you pick the specific chart?"
      ],
      "metadata": {
        "id": "EXh0U9oCveiU"
      }
    },
    {
      "cell_type": "markdown",
      "source": [
        "Answer Here."
      ],
      "metadata": {
        "id": "eMmPjTByveiU"
      }
    },
    {
      "cell_type": "markdown",
      "source": [
        "##### 2. What is/are the insight(s) found from the chart?"
      ],
      "metadata": {
        "id": "22aHeOlLveiV"
      }
    },
    {
      "cell_type": "markdown",
      "source": [
        "Answer Here"
      ],
      "metadata": {
        "id": "uPQ8RGwHveiV"
      }
    },
    {
      "cell_type": "markdown",
      "source": [
        "## **5. Solution to Business Objective**"
      ],
      "metadata": {
        "id": "JcMwzZxoAimU"
      }
    },
    {
      "cell_type": "markdown",
      "source": [
        "#### What do you suggest the client to achieve Business Objective ?\n",
        "Explain Briefly."
      ],
      "metadata": {
        "id": "8G2x9gOozGDZ"
      }
    },
    {
      "cell_type": "markdown",
      "source": [
        "Answer Here."
      ],
      "metadata": {
        "id": "pASKb0qOza21"
      }
    },
    {
      "cell_type": "markdown",
      "source": [
        "# **Conclusion**"
      ],
      "metadata": {
        "id": "gCX9965dhzqZ"
      }
    },
    {
      "cell_type": "markdown",
      "source": [
        "Write the conclusion here."
      ],
      "metadata": {
        "id": "Fjb1IsQkh3yE"
      }
    },
    {
      "cell_type": "markdown",
      "source": [
        "### ***Hurrah! You have successfully completed your EDA Capstone Project !!!***"
      ],
      "metadata": {
        "id": "gIfDvo9L0UH2"
      }
    }
  ]
}